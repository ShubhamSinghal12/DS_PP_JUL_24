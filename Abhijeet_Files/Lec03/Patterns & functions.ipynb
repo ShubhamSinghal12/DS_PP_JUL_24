{
 "cells": [
  {
   "cell_type": "code",
   "execution_count": 2,
   "id": "952dc137",
   "metadata": {},
   "outputs": [
    {
     "name": "stdout",
     "output_type": "stream",
     "text": [
      "* * * * * \n",
      "* * * * \n",
      "* * * \n",
      "* * \n",
      "* \n"
     ]
    }
   ],
   "source": [
    "n = 5\n",
    "\n",
    "for i in range(n, 0, -1):\n",
    "    for j in range(i):\n",
    "        print('* ', end = '')\n",
    "    print()"
   ]
  },
  {
   "cell_type": "code",
   "execution_count": 3,
   "id": "8e2e7e84",
   "metadata": {},
   "outputs": [
    {
     "name": "stdout",
     "output_type": "stream",
     "text": [
      "        * \n",
      "      * * \n",
      "    * * * \n",
      "  * * * * \n",
      "* * * * * \n"
     ]
    }
   ],
   "source": [
    "n = 5\n",
    "\n",
    "for row in range(1, n + 1):\n",
    "    for spcae in range(n - row):\n",
    "        print('  ', end = '')\n",
    "    for star in range(row):\n",
    "        print('* ', end = '')\n",
    "    print()"
   ]
  },
  {
   "cell_type": "code",
   "execution_count": 4,
   "id": "c6457954",
   "metadata": {},
   "outputs": [
    {
     "name": "stdout",
     "output_type": "stream",
     "text": [
      "* * * * * \n",
      "  * * * * \n",
      "    * * * \n",
      "      * * \n",
      "        * \n"
     ]
    }
   ],
   "source": [
    "n = 5\n",
    "\n",
    "for row in range(n, 0, -1):\n",
    "    for spaces in range(n - row):\n",
    "        print('  ', end = '')\n",
    "    for stars in range(row):\n",
    "        print('* ', end = '')\n",
    "    print()"
   ]
  },
  {
   "cell_type": "code",
   "execution_count": 5,
   "id": "bd6d96f5",
   "metadata": {},
   "outputs": [
    {
     "name": "stdout",
     "output_type": "stream",
     "text": [
      "* * * * * \n",
      "    * * * * \n",
      "        * * * \n",
      "            * * \n",
      "                * \n"
     ]
    }
   ],
   "source": [
    "n = 5\n",
    "\n",
    "for row in range(n, 0, -1):\n",
    "    for spaces in range(n - row):\n",
    "        print('    ', end = '')\n",
    "    for stars in range(row):\n",
    "        print('* ', end = '')\n",
    "    print()"
   ]
  },
  {
   "cell_type": "code",
   "execution_count": 8,
   "id": "486f47df",
   "metadata": {},
   "outputs": [
    {
     "name": "stdout",
     "output_type": "stream",
     "text": [
      "* * * * * \n",
      "*       * \n",
      "*       * \n",
      "*       * \n",
      "* * * * * \n"
     ]
    }
   ],
   "source": [
    "n = 5\n",
    "\n",
    "for i in range(n):\n",
    "    for j in range(n):\n",
    "        if i == 0 or j == 0 or j == n - 1 or i == n - 1:\n",
    "            print('* ', end = '')\n",
    "        else:\n",
    "            print('  ', end = '')\n",
    "    print()"
   ]
  },
  {
   "cell_type": "code",
   "execution_count": 14,
   "id": "0714cc20",
   "metadata": {},
   "outputs": [
    {
     "name": "stdout",
     "output_type": "stream",
     "text": [
      "*       * \n",
      "  *   *   \n",
      "    *     \n",
      "  *   *   \n",
      "*       * \n"
     ]
    }
   ],
   "source": [
    "n = 5\n",
    "\n",
    "for i in range(1, n + 1):\n",
    "    for j in range(1, n + 1):\n",
    "        if (i == j) or (i + j == n + 1):\n",
    "            print('* ', end = '')\n",
    "        else:\n",
    "            print('  ', end = '')\n",
    "    print()"
   ]
  },
  {
   "cell_type": "code",
   "execution_count": 30,
   "id": "09f6bd8e",
   "metadata": {},
   "outputs": [],
   "source": [
    "def prime_notprime(num):\n",
    "    for i in range(2, int(num ** 0.5) + 1):\n",
    "        if (num % i == 0):\n",
    "            return False\n",
    "    return True"
   ]
  },
  {
   "cell_type": "code",
   "execution_count": 31,
   "id": "23c7a637",
   "metadata": {},
   "outputs": [
    {
     "data": {
      "text/plain": [
       "False"
      ]
     },
     "execution_count": 31,
     "metadata": {},
     "output_type": "execute_result"
    }
   ],
   "source": [
    "prime_notprime(169)"
   ]
  },
  {
   "cell_type": "code",
   "execution_count": 33,
   "id": "659671d1",
   "metadata": {},
   "outputs": [],
   "source": [
    "def prime_notprime(num):\n",
    "    for i in range(2, int(num ** 0.5) + 1):\n",
    "        if (num % i == 0):\n",
    "            z = 'Not Prime'\n",
    "            \n",
    "    z = 'Prime'\n",
    "    return z"
   ]
  },
  {
   "cell_type": "code",
   "execution_count": 34,
   "id": "7c51bf7a",
   "metadata": {},
   "outputs": [
    {
     "data": {
      "text/plain": [
       "'Prime'"
      ]
     },
     "execution_count": 34,
     "metadata": {},
     "output_type": "execute_result"
    }
   ],
   "source": [
    "prime_notprime(15)"
   ]
  },
  {
   "cell_type": "code",
   "execution_count": null,
   "id": "e5a9a5ed",
   "metadata": {},
   "outputs": [],
   "source": []
  }
 ],
 "metadata": {
  "kernelspec": {
   "display_name": "Python 3 (ipykernel)",
   "language": "python",
   "name": "python3"
  },
  "language_info": {
   "codemirror_mode": {
    "name": "ipython",
    "version": 3
   },
   "file_extension": ".py",
   "mimetype": "text/x-python",
   "name": "python",
   "nbconvert_exporter": "python",
   "pygments_lexer": "ipython3",
   "version": "3.8.10"
  }
 },
 "nbformat": 4,
 "nbformat_minor": 5
}
