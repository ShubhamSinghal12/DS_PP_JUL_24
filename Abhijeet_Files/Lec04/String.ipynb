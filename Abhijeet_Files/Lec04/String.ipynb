{
 "cells": [
  {
   "cell_type": "code",
   "execution_count": 2,
   "id": "9d27aaca",
   "metadata": {},
   "outputs": [
    {
     "name": "stdout",
     "output_type": "stream",
     "text": [
      "1\n",
      "2\n",
      "3\n",
      "4\n",
      "5\n",
      "6\n",
      "7\n",
      "8\n",
      "9\n"
     ]
    }
   ],
   "source": [
    "for i in range(1, 10):\n",
    "    print(i)"
   ]
  },
  {
   "cell_type": "code",
   "execution_count": 4,
   "id": "f75d3030",
   "metadata": {},
   "outputs": [
    {
     "name": "stdout",
     "output_type": "stream",
     "text": [
      "1\n",
      "2\n",
      "3\n",
      "4\n",
      "5\n",
      "6\n",
      "7\n",
      "8\n",
      "9\n",
      "10\n"
     ]
    }
   ],
   "source": [
    "a = 0\n",
    "while (a < 10):\n",
    "    a += 1\n",
    "    print(a)"
   ]
  },
  {
   "cell_type": "code",
   "execution_count": 19,
   "id": "5934543e",
   "metadata": {},
   "outputs": [
    {
     "name": "stdout",
     "output_type": "stream",
     "text": [
      "Prime\n"
     ]
    }
   ],
   "source": [
    "num = 17\n",
    "flag = 0\n",
    "\n",
    "for i in range(2, int(num ** 0.5) + 1):\n",
    "    if (num % i == 0):\n",
    "        flag = 1\n",
    "        break\n",
    "        \n",
    "if flag:\n",
    "    print('Not Prime')\n",
    "else:\n",
    "    print('Prime')"
   ]
  },
  {
   "cell_type": "code",
   "execution_count": 16,
   "id": "749b36cb",
   "metadata": {},
   "outputs": [
    {
     "name": "stdout",
     "output_type": "stream",
     "text": [
      "0 0\n",
      "0 1\n",
      "0 2\n",
      "1 0\n",
      "1 1\n",
      "1 2\n"
     ]
    }
   ],
   "source": [
    "for i in range(2):\n",
    "    for j in range(5):\n",
    "        if (j == 3):\n",
    "            break\n",
    "        print(i, j)"
   ]
  },
  {
   "cell_type": "code",
   "execution_count": 20,
   "id": "89c2c0ef",
   "metadata": {},
   "outputs": [
    {
     "name": "stdout",
     "output_type": "stream",
     "text": [
      "0\n",
      "1\n",
      "2\n",
      "3\n",
      "4\n",
      "5\n",
      "6\n"
     ]
    }
   ],
   "source": [
    "a = 0\n",
    "while True:\n",
    "    print(a)\n",
    "    a += 1\n",
    "    if a == 7:\n",
    "        break"
   ]
  },
  {
   "cell_type": "code",
   "execution_count": 25,
   "id": "cdc53fdb",
   "metadata": {},
   "outputs": [
    {
     "name": "stdout",
     "output_type": "stream",
     "text": [
      "1\n",
      "2\n",
      "3\n",
      "4\n",
      "5\n",
      "6\n",
      "8\n",
      "9\n",
      "10\n"
     ]
    }
   ],
   "source": [
    "a = 0\n",
    "while True:\n",
    "    a += 1\n",
    "    if a == 7:\n",
    "        continue\n",
    "    print(a)\n",
    "    if a == 10:\n",
    "        break"
   ]
  },
  {
   "cell_type": "code",
   "execution_count": 26,
   "id": "e9a0d7a0",
   "metadata": {},
   "outputs": [
    {
     "name": "stdout",
     "output_type": "stream",
     "text": [
      "Prime\n"
     ]
    }
   ],
   "source": [
    "num = 17\n",
    "flag = 0\n",
    "i = 2\n",
    "\n",
    "while i < int(num ** 0.5) + 1:\n",
    "    if (num % i == 0):\n",
    "        flag = 1\n",
    "        break\n",
    "    i += 1\n",
    "        \n",
    "if flag:\n",
    "    print('Not Prime')\n",
    "else:\n",
    "    print('Prime')"
   ]
  },
  {
   "cell_type": "code",
   "execution_count": 27,
   "id": "3d788c96",
   "metadata": {},
   "outputs": [],
   "source": [
    "# Strings"
   ]
  },
  {
   "cell_type": "code",
   "execution_count": 28,
   "id": "722a2158",
   "metadata": {},
   "outputs": [
    {
     "data": {
      "text/plain": [
       "'s'"
      ]
     },
     "execution_count": 28,
     "metadata": {},
     "output_type": "execute_result"
    }
   ],
   "source": [
    "'s'"
   ]
  },
  {
   "cell_type": "code",
   "execution_count": 29,
   "id": "c3381ed5",
   "metadata": {},
   "outputs": [],
   "source": [
    "string1 = 'Abhijeet'\n",
    "string2 = 'Bhattacharya'"
   ]
  },
  {
   "cell_type": "code",
   "execution_count": 30,
   "id": "8b6e4bca",
   "metadata": {},
   "outputs": [
    {
     "name": "stdout",
     "output_type": "stream",
     "text": [
      "AbhijeetBhattacharya\n"
     ]
    }
   ],
   "source": [
    "print(string1 + string2)"
   ]
  },
  {
   "cell_type": "code",
   "execution_count": 32,
   "id": "f25dcc0f",
   "metadata": {},
   "outputs": [
    {
     "name": "stdout",
     "output_type": "stream",
     "text": [
      "Abhijeet10\n"
     ]
    }
   ],
   "source": [
    "print(string1 + str(10))"
   ]
  },
  {
   "cell_type": "code",
   "execution_count": 33,
   "id": "a94efe6e",
   "metadata": {},
   "outputs": [
    {
     "name": "stdout",
     "output_type": "stream",
     "text": [
      "Abhijeet10\n"
     ]
    }
   ],
   "source": [
    "print(string1 + '10')"
   ]
  },
  {
   "cell_type": "code",
   "execution_count": 35,
   "id": "96957a55",
   "metadata": {},
   "outputs": [
    {
     "data": {
      "text/plain": [
       "'t'"
      ]
     },
     "execution_count": 35,
     "metadata": {},
     "output_type": "execute_result"
    }
   ],
   "source": [
    "string1[7]"
   ]
  },
  {
   "cell_type": "code",
   "execution_count": 41,
   "id": "a932e2eb",
   "metadata": {},
   "outputs": [
    {
     "data": {
      "text/plain": [
       "'e'"
      ]
     },
     "execution_count": 41,
     "metadata": {},
     "output_type": "execute_result"
    }
   ],
   "source": [
    "string1[-2]"
   ]
  },
  {
   "cell_type": "code",
   "execution_count": 43,
   "id": "08c9ed6b",
   "metadata": {},
   "outputs": [
    {
     "name": "stdout",
     "output_type": "stream",
     "text": [
      "Abhijeet\n"
     ]
    }
   ],
   "source": [
    "print(string1)"
   ]
  },
  {
   "cell_type": "code",
   "execution_count": 47,
   "id": "4d7e289e",
   "metadata": {},
   "outputs": [
    {
     "data": {
      "text/plain": [
       "'hijee'"
      ]
     },
     "execution_count": 47,
     "metadata": {},
     "output_type": "execute_result"
    }
   ],
   "source": [
    "string1[2:-1]          # Slicing"
   ]
  },
  {
   "cell_type": "code",
   "execution_count": 46,
   "id": "04717a35",
   "metadata": {},
   "outputs": [],
   "source": [
    "string = 'Hello my name is Abhijeet'\n",
    "# 4: 8"
   ]
  },
  {
   "cell_type": "code",
   "execution_count": 49,
   "id": "10e19ebc",
   "metadata": {},
   "outputs": [
    {
     "name": "stdout",
     "output_type": "stream",
     "text": [
      "Abhijeet"
     ]
    }
   ],
   "source": [
    "for i in string1:\n",
    "    print(i, end = '')"
   ]
  },
  {
   "cell_type": "code",
   "execution_count": 52,
   "id": "39879589",
   "metadata": {},
   "outputs": [],
   "source": [
    "def slicer(string, i, j):\n",
    "    for k in range(j - i):\n",
    "        print(string[i + k])"
   ]
  },
  {
   "cell_type": "code",
   "execution_count": 53,
   "id": "e29ef557",
   "metadata": {},
   "outputs": [
    {
     "name": "stdout",
     "output_type": "stream",
     "text": [
      "o\n",
      " \n",
      "m\n",
      "y\n"
     ]
    }
   ],
   "source": [
    "slicer(string, 4, 8)"
   ]
  },
  {
   "cell_type": "code",
   "execution_count": 54,
   "id": "cbc016f3",
   "metadata": {},
   "outputs": [],
   "source": [
    "def slicer(string, i, j):\n",
    "    for k in range(i, j):\n",
    "        print(string[k])"
   ]
  },
  {
   "cell_type": "code",
   "execution_count": 55,
   "id": "2b1cbd14",
   "metadata": {},
   "outputs": [
    {
     "name": "stdout",
     "output_type": "stream",
     "text": [
      "o\n",
      " \n",
      "m\n",
      "y\n"
     ]
    }
   ],
   "source": [
    "slicer(string, 4, 8)"
   ]
  },
  {
   "cell_type": "code",
   "execution_count": 57,
   "id": "a37ef7cb",
   "metadata": {},
   "outputs": [],
   "source": [
    "string = 'Hello My Name Is Abhijeet'"
   ]
  },
  {
   "cell_type": "code",
   "execution_count": 58,
   "id": "8669e4d4",
   "metadata": {},
   "outputs": [
    {
     "data": {
      "text/plain": [
       "'hello my name is abhijeet'"
      ]
     },
     "execution_count": 58,
     "metadata": {},
     "output_type": "execute_result"
    }
   ],
   "source": [
    "string.lower()"
   ]
  },
  {
   "cell_type": "code",
   "execution_count": 62,
   "id": "1b493b9b",
   "metadata": {},
   "outputs": [],
   "source": [
    "string = 'Hello My Name Is Abhijeet'\n",
    "\n",
    "def upper_lower(string):\n",
    "    for i in string:\n",
    "        if (ord(i) >= 65 and ord(i) < 65 + 26):\n",
    "            print(chr(ord(i) + 32), end = '')\n",
    "        else:\n",
    "            print(i,end = '')"
   ]
  },
  {
   "cell_type": "code",
   "execution_count": 61,
   "id": "ab95f970",
   "metadata": {},
   "outputs": [
    {
     "name": "stdout",
     "output_type": "stream",
     "text": [
      "hello my name is abhijeet"
     ]
    }
   ],
   "source": [
    "upper_lower(string)"
   ]
  },
  {
   "cell_type": "code",
   "execution_count": 64,
   "id": "ca500e9d",
   "metadata": {},
   "outputs": [],
   "source": [
    "string = 'hello my name is abhijeet'"
   ]
  },
  {
   "cell_type": "code",
   "execution_count": 65,
   "id": "8ad8f80c",
   "metadata": {},
   "outputs": [],
   "source": [
    "def counter(string, val):\n",
    "    count = 0\n",
    "    for i in string:\n",
    "        if i == val:\n",
    "            count += 1\n",
    "    print(count)"
   ]
  },
  {
   "cell_type": "code",
   "execution_count": 66,
   "id": "1533d7ea",
   "metadata": {},
   "outputs": [
    {
     "name": "stdout",
     "output_type": "stream",
     "text": [
      "4\n"
     ]
    }
   ],
   "source": [
    "counter(string, 'e')"
   ]
  },
  {
   "cell_type": "code",
   "execution_count": 69,
   "id": "fa35d3f4",
   "metadata": {},
   "outputs": [],
   "source": [
    "def reverse_str(string):\n",
    "    length = 0\n",
    "    for i in string:\n",
    "        length += 1\n",
    "    \n",
    "    for i in range(length - 1, -1, -1):\n",
    "        print(string[i], end = '')"
   ]
  },
  {
   "cell_type": "code",
   "execution_count": 70,
   "id": "8d158f40",
   "metadata": {},
   "outputs": [
    {
     "name": "stdout",
     "output_type": "stream",
     "text": [
      "teejihba si eman ym olleh"
     ]
    }
   ],
   "source": [
    "reverse_str(string)"
   ]
  },
  {
   "cell_type": "code",
   "execution_count": 77,
   "id": "46bf2b10",
   "metadata": {},
   "outputs": [
    {
     "name": "stdout",
     "output_type": "stream",
     "text": [
      "Enter Something422\n"
     ]
    }
   ],
   "source": [
    "var = input('Enter Something')"
   ]
  },
  {
   "cell_type": "code",
   "execution_count": 78,
   "id": "018c89a4",
   "metadata": {},
   "outputs": [
    {
     "name": "stdout",
     "output_type": "stream",
     "text": [
      "422 <class 'str'>\n"
     ]
    }
   ],
   "source": [
    "print(var, type(var))"
   ]
  },
  {
   "cell_type": "code",
   "execution_count": 79,
   "id": "3c116ee4",
   "metadata": {},
   "outputs": [
    {
     "name": "stdout",
     "output_type": "stream",
     "text": [
      "<class 'int'>\n"
     ]
    }
   ],
   "source": [
    "var = int(var)\n",
    "print(type(var))"
   ]
  },
  {
   "cell_type": "code",
   "execution_count": null,
   "id": "1b41e771",
   "metadata": {},
   "outputs": [],
   "source": []
  }
 ],
 "metadata": {
  "kernelspec": {
   "display_name": "Python 3 (ipykernel)",
   "language": "python",
   "name": "python3"
  },
  "language_info": {
   "codemirror_mode": {
    "name": "ipython",
    "version": 3
   },
   "file_extension": ".py",
   "mimetype": "text/x-python",
   "name": "python",
   "nbconvert_exporter": "python",
   "pygments_lexer": "ipython3",
   "version": "3.8.10"
  }
 },
 "nbformat": 4,
 "nbformat_minor": 5
}
