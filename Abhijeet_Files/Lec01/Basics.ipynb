{
 "cells": [
  {
   "cell_type": "code",
   "execution_count": 1,
   "id": "f8f33a00",
   "metadata": {},
   "outputs": [],
   "source": [
    "var = 200"
   ]
  },
  {
   "cell_type": "code",
   "execution_count": 2,
   "id": "149b4a35",
   "metadata": {},
   "outputs": [
    {
     "name": "stdout",
     "output_type": "stream",
     "text": [
      "200\n"
     ]
    }
   ],
   "source": [
    "print(var)"
   ]
  },
  {
   "cell_type": "code",
   "execution_count": 3,
   "id": "a4a8c623",
   "metadata": {},
   "outputs": [
    {
     "name": "stdout",
     "output_type": "stream",
     "text": [
      "200\n",
      "100\n"
     ]
    }
   ],
   "source": [
    "print(var)\n",
    "var = 100\n",
    "print(var)"
   ]
  },
  {
   "cell_type": "code",
   "execution_count": 4,
   "id": "bef12229",
   "metadata": {},
   "outputs": [],
   "source": [
    "var = 1024"
   ]
  },
  {
   "cell_type": "code",
   "execution_count": 5,
   "id": "923dc645",
   "metadata": {},
   "outputs": [
    {
     "name": "stdout",
     "output_type": "stream",
     "text": [
      "1024\n"
     ]
    }
   ],
   "source": [
    "print(var)"
   ]
  },
  {
   "cell_type": "code",
   "execution_count": 6,
   "id": "95d4e804",
   "metadata": {},
   "outputs": [],
   "source": [
    "# Int ---> Numbers from -inf to + inf with no decimal points"
   ]
  },
  {
   "cell_type": "code",
   "execution_count": 7,
   "id": "f03bfe7f",
   "metadata": {},
   "outputs": [
    {
     "data": {
      "text/plain": [
       "int"
      ]
     },
     "execution_count": 7,
     "metadata": {},
     "output_type": "execute_result"
    }
   ],
   "source": [
    "type(var)"
   ]
  },
  {
   "cell_type": "code",
   "execution_count": 8,
   "id": "d39db022",
   "metadata": {},
   "outputs": [
    {
     "name": "stdout",
     "output_type": "stream",
     "text": [
      "<class 'float'>\n"
     ]
    }
   ],
   "source": [
    "var = 10.0\n",
    "print(type(var))"
   ]
  },
  {
   "cell_type": "code",
   "execution_count": 9,
   "id": "217f89c1",
   "metadata": {},
   "outputs": [],
   "source": [
    "# Float ---> Numbers from -inf to + inf with decimal points"
   ]
  },
  {
   "cell_type": "code",
   "execution_count": 10,
   "id": "146d54ae",
   "metadata": {},
   "outputs": [
    {
     "name": "stdout",
     "output_type": "stream",
     "text": [
      "Abhijeet\n"
     ]
    }
   ],
   "source": [
    "string = \"Abhijeet\"\n",
    "print(string)"
   ]
  },
  {
   "cell_type": "code",
   "execution_count": 11,
   "id": "2f0117a9",
   "metadata": {},
   "outputs": [],
   "source": [
    "string = \"12345\""
   ]
  },
  {
   "cell_type": "code",
   "execution_count": 12,
   "id": "2f148d99",
   "metadata": {},
   "outputs": [
    {
     "name": "stdout",
     "output_type": "stream",
     "text": [
      "12345\n"
     ]
    }
   ],
   "source": [
    "print(string)"
   ]
  },
  {
   "cell_type": "code",
   "execution_count": 13,
   "id": "5c922297",
   "metadata": {},
   "outputs": [],
   "source": [
    "var1 = 'Abhijeet'\n",
    "var2 = \"Abhijeet\""
   ]
  },
  {
   "cell_type": "code",
   "execution_count": 14,
   "id": "e7ea766e",
   "metadata": {},
   "outputs": [
    {
     "name": "stdout",
     "output_type": "stream",
     "text": [
      "Abhijeet Abhijeet Hello\n"
     ]
    }
   ],
   "source": [
    "print(var2, var1, 'Hello')"
   ]
  },
  {
   "cell_type": "code",
   "execution_count": 15,
   "id": "9d9d483f",
   "metadata": {},
   "outputs": [
    {
     "name": "stdout",
     "output_type": "stream",
     "text": [
      "123 Hello 456 Abhijeet\n"
     ]
    }
   ],
   "source": [
    "print(123, 'Hello', 456, var1)"
   ]
  },
  {
   "cell_type": "code",
   "execution_count": 16,
   "id": "d426f9f5",
   "metadata": {},
   "outputs": [
    {
     "name": "stdout",
     "output_type": "stream",
     "text": [
      "Hello World!\n"
     ]
    }
   ],
   "source": [
    "print('Hello World!')"
   ]
  },
  {
   "cell_type": "code",
   "execution_count": 17,
   "id": "12f37e34",
   "metadata": {},
   "outputs": [
    {
     "name": "stdout",
     "output_type": "stream",
     "text": [
      "<class 'str'>\n"
     ]
    }
   ],
   "source": [
    "print(type('Hello World!'))"
   ]
  },
  {
   "cell_type": "code",
   "execution_count": 18,
   "id": "2135c8e5",
   "metadata": {},
   "outputs": [],
   "source": [
    "# Str ---> Anything between \"\" or ''"
   ]
  },
  {
   "cell_type": "code",
   "execution_count": 19,
   "id": "7d2fc3ab",
   "metadata": {},
   "outputs": [
    {
     "name": "stdout",
     "output_type": "stream",
     "text": [
      "Hello myname is Abhijeet\n"
     ]
    }
   ],
   "source": [
    "a = 'Hello my' 'name is Abhijeet'\n",
    "print(a)"
   ]
  },
  {
   "cell_type": "code",
   "execution_count": 20,
   "id": "ce87f40b",
   "metadata": {},
   "outputs": [
    {
     "name": "stdout",
     "output_type": "stream",
     "text": [
      "30\n"
     ]
    }
   ],
   "source": [
    "var = 10 + 20\n",
    "print(var)"
   ]
  },
  {
   "cell_type": "code",
   "execution_count": 21,
   "id": "47b1579a",
   "metadata": {},
   "outputs": [],
   "source": [
    "boolean = True"
   ]
  },
  {
   "cell_type": "code",
   "execution_count": 22,
   "id": "f30431ce",
   "metadata": {},
   "outputs": [
    {
     "name": "stdout",
     "output_type": "stream",
     "text": [
      "<class 'bool'>\n"
     ]
    }
   ],
   "source": [
    "print(type(boolean))"
   ]
  },
  {
   "cell_type": "code",
   "execution_count": 23,
   "id": "84cc47b1",
   "metadata": {},
   "outputs": [],
   "source": [
    "# Bool ---> That stores True or False"
   ]
  },
  {
   "cell_type": "code",
   "execution_count": 51,
   "id": "f09f4603",
   "metadata": {},
   "outputs": [
    {
     "name": "stdout",
     "output_type": "stream",
     "text": [
      "3\n"
     ]
    }
   ],
   "source": [
    "print(2 + True)"
   ]
  },
  {
   "cell_type": "code",
   "execution_count": 38,
   "id": "d1acd66a",
   "metadata": {},
   "outputs": [],
   "source": [
    "var1 = 1\n",
    "var2 = 1"
   ]
  },
  {
   "cell_type": "code",
   "execution_count": 39,
   "id": "de747edf",
   "metadata": {},
   "outputs": [
    {
     "name": "stdout",
     "output_type": "stream",
     "text": [
      "140732404930320 140732404930320\n"
     ]
    }
   ],
   "source": [
    "print(id(var1), id(var2))"
   ]
  },
  {
   "cell_type": "code",
   "execution_count": 58,
   "id": "45a5e492",
   "metadata": {},
   "outputs": [],
   "source": [
    "var1 = 'Abhijeet'\n",
    "var2 = 'Abhijeet'"
   ]
  },
  {
   "cell_type": "code",
   "execution_count": 59,
   "id": "c292df5e",
   "metadata": {},
   "outputs": [
    {
     "name": "stdout",
     "output_type": "stream",
     "text": [
      "2753295579120 2753295579120\n"
     ]
    }
   ],
   "source": [
    "print(id(var1), id(var2))"
   ]
  },
  {
   "cell_type": "code",
   "execution_count": 43,
   "id": "2645dc52",
   "metadata": {},
   "outputs": [
    {
     "name": "stdout",
     "output_type": "stream",
     "text": [
      "10\n"
     ]
    }
   ],
   "source": [
    "print(2 * 5)"
   ]
  },
  {
   "cell_type": "code",
   "execution_count": 44,
   "id": "04aa8a33",
   "metadata": {},
   "outputs": [
    {
     "name": "stdout",
     "output_type": "stream",
     "text": [
      "11\n"
     ]
    }
   ],
   "source": [
    "print(1 + 10)"
   ]
  },
  {
   "cell_type": "code",
   "execution_count": 45,
   "id": "74a4bd2a",
   "metadata": {},
   "outputs": [
    {
     "name": "stdout",
     "output_type": "stream",
     "text": [
      "110\n"
     ]
    }
   ],
   "source": [
    "print('1' + '10')"
   ]
  },
  {
   "cell_type": "code",
   "execution_count": 47,
   "id": "f9d9097c",
   "metadata": {},
   "outputs": [
    {
     "ename": "TypeError",
     "evalue": "unsupported operand type(s) for +: 'int' and 'str'",
     "output_type": "error",
     "traceback": [
      "\u001b[1;31m---------------------------------------------------------------------------\u001b[0m",
      "\u001b[1;31mTypeError\u001b[0m                                 Traceback (most recent call last)",
      "Cell \u001b[1;32mIn[47], line 1\u001b[0m\n\u001b[1;32m----> 1\u001b[0m \u001b[38;5;28mprint\u001b[39m(\u001b[38;5;241;43m10\u001b[39;49m\u001b[43m \u001b[49m\u001b[38;5;241;43m+\u001b[39;49m\u001b[43m \u001b[49m\u001b[38;5;124;43m'\u001b[39;49m\u001b[38;5;124;43m1\u001b[39;49m\u001b[38;5;124;43m'\u001b[39;49m)\n",
      "\u001b[1;31mTypeError\u001b[0m: unsupported operand type(s) for +: 'int' and 'str'"
     ]
    }
   ],
   "source": [
    "print(10 + '1')"
   ]
  },
  {
   "cell_type": "code",
   "execution_count": 48,
   "id": "dcfb0ed0",
   "metadata": {},
   "outputs": [
    {
     "name": "stdout",
     "output_type": "stream",
     "text": [
      "3.1\n"
     ]
    }
   ],
   "source": [
    "print(1 + 2.1)"
   ]
  },
  {
   "cell_type": "code",
   "execution_count": 49,
   "id": "b2c77d5b",
   "metadata": {},
   "outputs": [
    {
     "name": "stdout",
     "output_type": "stream",
     "text": [
      "4\n"
     ]
    }
   ],
   "source": [
    "print(True + 3)"
   ]
  },
  {
   "cell_type": "code",
   "execution_count": 51,
   "id": "03180860",
   "metadata": {},
   "outputs": [],
   "source": [
    "a = 'Abhijeet'"
   ]
  },
  {
   "cell_type": "code",
   "execution_count": 60,
   "id": "cc179fec",
   "metadata": {},
   "outputs": [
    {
     "name": "stdout",
     "output_type": "stream",
     "text": [
      "4\n"
     ]
    }
   ],
   "source": [
    "print(2 * 2)"
   ]
  },
  {
   "cell_type": "code",
   "execution_count": 61,
   "id": "d582c041",
   "metadata": {},
   "outputs": [
    {
     "name": "stdout",
     "output_type": "stream",
     "text": [
      "strstrstrstrstr\n"
     ]
    }
   ],
   "source": [
    "print('str' * 5)"
   ]
  },
  {
   "cell_type": "code",
   "execution_count": 62,
   "id": "33f274cc",
   "metadata": {},
   "outputs": [
    {
     "name": "stdout",
     "output_type": "stream",
     "text": [
      "4.0\n"
     ]
    }
   ],
   "source": [
    "print(20 / 5)"
   ]
  },
  {
   "cell_type": "code",
   "execution_count": 63,
   "id": "5f556eec",
   "metadata": {},
   "outputs": [],
   "source": [
    "# Typecasting ---> Conversion from one dtype to another dtype"
   ]
  },
  {
   "cell_type": "code",
   "execution_count": 64,
   "id": "1210c7bd",
   "metadata": {},
   "outputs": [
    {
     "name": "stdout",
     "output_type": "stream",
     "text": [
      "4.0\n"
     ]
    }
   ],
   "source": [
    "print(20 / 5)   # Implicit Typcasting"
   ]
  },
  {
   "cell_type": "code",
   "execution_count": 67,
   "id": "29644752",
   "metadata": {},
   "outputs": [
    {
     "name": "stdout",
     "output_type": "stream",
     "text": [
      "3\n"
     ]
    }
   ],
   "source": [
    "print(int(20 / 6))    # Explicit Typecasting"
   ]
  },
  {
   "cell_type": "code",
   "execution_count": 69,
   "id": "934280ad",
   "metadata": {},
   "outputs": [
    {
     "data": {
      "text/plain": [
       "3"
      ]
     },
     "execution_count": 69,
     "metadata": {},
     "output_type": "execute_result"
    }
   ],
   "source": [
    "int(3.999)"
   ]
  },
  {
   "cell_type": "code",
   "execution_count": 70,
   "id": "0880a075",
   "metadata": {},
   "outputs": [
    {
     "data": {
      "text/plain": [
       "5.0"
      ]
     },
     "execution_count": 70,
     "metadata": {},
     "output_type": "execute_result"
    }
   ],
   "source": [
    "float(5)"
   ]
  },
  {
   "cell_type": "code",
   "execution_count": 73,
   "id": "ef7a461d",
   "metadata": {},
   "outputs": [
    {
     "data": {
      "text/plain": [
       "'123'"
      ]
     },
     "execution_count": 73,
     "metadata": {},
     "output_type": "execute_result"
    }
   ],
   "source": [
    "str(123)"
   ]
  },
  {
   "cell_type": "code",
   "execution_count": 78,
   "id": "dfd7dbdd",
   "metadata": {},
   "outputs": [
    {
     "data": {
      "text/plain": [
       "True"
      ]
     },
     "execution_count": 78,
     "metadata": {},
     "output_type": "execute_result"
    }
   ],
   "source": [
    "bool(-2.5)"
   ]
  },
  {
   "cell_type": "code",
   "execution_count": 82,
   "id": "e7fa3c11",
   "metadata": {},
   "outputs": [
    {
     "data": {
      "text/plain": [
       "81"
      ]
     },
     "execution_count": 82,
     "metadata": {},
     "output_type": "execute_result"
    }
   ],
   "source": [
    "ord('Q')"
   ]
  },
  {
   "cell_type": "code",
   "execution_count": 83,
   "id": "86d4985a",
   "metadata": {},
   "outputs": [
    {
     "data": {
      "text/plain": [
       "'Q'"
      ]
     },
     "execution_count": 83,
     "metadata": {},
     "output_type": "execute_result"
    }
   ],
   "source": [
    "chr(81)"
   ]
  },
  {
   "cell_type": "code",
   "execution_count": 85,
   "id": "eaa5635d",
   "metadata": {},
   "outputs": [],
   "source": [
    "# 'P' ---> 'p'"
   ]
  },
  {
   "cell_type": "code",
   "execution_count": 87,
   "id": "7d776fdd",
   "metadata": {},
   "outputs": [
    {
     "data": {
      "text/plain": [
       "'p'"
      ]
     },
     "execution_count": 87,
     "metadata": {},
     "output_type": "execute_result"
    }
   ],
   "source": [
    "chr(112)"
   ]
  },
  {
   "cell_type": "code",
   "execution_count": 89,
   "id": "ecd00f64",
   "metadata": {},
   "outputs": [
    {
     "data": {
      "text/plain": [
       "'p'"
      ]
     },
     "execution_count": 89,
     "metadata": {},
     "output_type": "execute_result"
    }
   ],
   "source": [
    "chr(ord('P') + 32)"
   ]
  },
  {
   "cell_type": "code",
   "execution_count": 92,
   "id": "fe82c249",
   "metadata": {},
   "outputs": [
    {
     "data": {
      "text/plain": [
       "'p'"
      ]
     },
     "execution_count": 92,
     "metadata": {},
     "output_type": "execute_result"
    }
   ],
   "source": [
    "chr(ord('P') + 32)"
   ]
  },
  {
   "cell_type": "code",
   "execution_count": null,
   "id": "a2045b5f",
   "metadata": {},
   "outputs": [],
   "source": []
  }
 ],
 "metadata": {
  "kernelspec": {
   "display_name": "Python 3 (ipykernel)",
   "language": "python",
   "name": "python3"
  },
  "language_info": {
   "codemirror_mode": {
    "name": "ipython",
    "version": 3
   },
   "file_extension": ".py",
   "mimetype": "text/x-python",
   "name": "python",
   "nbconvert_exporter": "python",
   "pygments_lexer": "ipython3",
   "version": "3.8.10"
  }
 },
 "nbformat": 4,
 "nbformat_minor": 5
}
