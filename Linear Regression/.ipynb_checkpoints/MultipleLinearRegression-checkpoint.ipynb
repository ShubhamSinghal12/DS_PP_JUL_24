{
 "cells": [
  {
   "cell_type": "code",
   "execution_count": 16,
   "id": "400012ee-6012-4189-89a7-67afe27a6918",
   "metadata": {},
   "outputs": [],
   "source": [
    "import pandas as pd\n",
    "import numpy as np\n",
    "import matplotlib.pyplot as plt"
   ]
  },
  {
   "cell_type": "code",
   "execution_count": 17,
   "id": "1a035412-e1a1-49fa-82f5-e70c50628db6",
   "metadata": {},
   "outputs": [
    {
     "data": {
      "text/html": [
       "<div>\n",
       "<style scoped>\n",
       "    .dataframe tbody tr th:only-of-type {\n",
       "        vertical-align: middle;\n",
       "    }\n",
       "\n",
       "    .dataframe tbody tr th {\n",
       "        vertical-align: top;\n",
       "    }\n",
       "\n",
       "    .dataframe thead th {\n",
       "        text-align: right;\n",
       "    }\n",
       "</style>\n",
       "<table border=\"1\" class=\"dataframe\">\n",
       "  <thead>\n",
       "    <tr style=\"text-align: right;\">\n",
       "      <th></th>\n",
       "      <th>crim</th>\n",
       "      <th>zn</th>\n",
       "      <th>indus</th>\n",
       "      <th>chas</th>\n",
       "      <th>nox</th>\n",
       "      <th>rm</th>\n",
       "      <th>age</th>\n",
       "      <th>dis</th>\n",
       "      <th>rad</th>\n",
       "      <th>tax</th>\n",
       "      <th>ptratio</th>\n",
       "      <th>b</th>\n",
       "      <th>lstat</th>\n",
       "      <th>medv</th>\n",
       "    </tr>\n",
       "  </thead>\n",
       "  <tbody>\n",
       "    <tr>\n",
       "      <th>0</th>\n",
       "      <td>0.00632</td>\n",
       "      <td>18.0</td>\n",
       "      <td>2.31</td>\n",
       "      <td>0</td>\n",
       "      <td>0.538</td>\n",
       "      <td>6.575</td>\n",
       "      <td>65.2</td>\n",
       "      <td>4.0900</td>\n",
       "      <td>1</td>\n",
       "      <td>296</td>\n",
       "      <td>15.3</td>\n",
       "      <td>396.90</td>\n",
       "      <td>4.98</td>\n",
       "      <td>24.0</td>\n",
       "    </tr>\n",
       "    <tr>\n",
       "      <th>1</th>\n",
       "      <td>0.02731</td>\n",
       "      <td>0.0</td>\n",
       "      <td>7.07</td>\n",
       "      <td>0</td>\n",
       "      <td>0.469</td>\n",
       "      <td>6.421</td>\n",
       "      <td>78.9</td>\n",
       "      <td>4.9671</td>\n",
       "      <td>2</td>\n",
       "      <td>242</td>\n",
       "      <td>17.8</td>\n",
       "      <td>396.90</td>\n",
       "      <td>9.14</td>\n",
       "      <td>21.6</td>\n",
       "    </tr>\n",
       "    <tr>\n",
       "      <th>2</th>\n",
       "      <td>0.02729</td>\n",
       "      <td>0.0</td>\n",
       "      <td>7.07</td>\n",
       "      <td>0</td>\n",
       "      <td>0.469</td>\n",
       "      <td>7.185</td>\n",
       "      <td>61.1</td>\n",
       "      <td>4.9671</td>\n",
       "      <td>2</td>\n",
       "      <td>242</td>\n",
       "      <td>17.8</td>\n",
       "      <td>392.83</td>\n",
       "      <td>4.03</td>\n",
       "      <td>34.7</td>\n",
       "    </tr>\n",
       "    <tr>\n",
       "      <th>3</th>\n",
       "      <td>0.03237</td>\n",
       "      <td>0.0</td>\n",
       "      <td>2.18</td>\n",
       "      <td>0</td>\n",
       "      <td>0.458</td>\n",
       "      <td>6.998</td>\n",
       "      <td>45.8</td>\n",
       "      <td>6.0622</td>\n",
       "      <td>3</td>\n",
       "      <td>222</td>\n",
       "      <td>18.7</td>\n",
       "      <td>394.63</td>\n",
       "      <td>2.94</td>\n",
       "      <td>33.4</td>\n",
       "    </tr>\n",
       "    <tr>\n",
       "      <th>4</th>\n",
       "      <td>0.06905</td>\n",
       "      <td>0.0</td>\n",
       "      <td>2.18</td>\n",
       "      <td>0</td>\n",
       "      <td>0.458</td>\n",
       "      <td>7.147</td>\n",
       "      <td>54.2</td>\n",
       "      <td>6.0622</td>\n",
       "      <td>3</td>\n",
       "      <td>222</td>\n",
       "      <td>18.7</td>\n",
       "      <td>396.90</td>\n",
       "      <td>5.33</td>\n",
       "      <td>36.2</td>\n",
       "    </tr>\n",
       "  </tbody>\n",
       "</table>\n",
       "</div>"
      ],
      "text/plain": [
       "      crim    zn  indus  chas    nox     rm   age     dis  rad  tax  ptratio  \\\n",
       "0  0.00632  18.0   2.31     0  0.538  6.575  65.2  4.0900    1  296     15.3   \n",
       "1  0.02731   0.0   7.07     0  0.469  6.421  78.9  4.9671    2  242     17.8   \n",
       "2  0.02729   0.0   7.07     0  0.469  7.185  61.1  4.9671    2  242     17.8   \n",
       "3  0.03237   0.0   2.18     0  0.458  6.998  45.8  6.0622    3  222     18.7   \n",
       "4  0.06905   0.0   2.18     0  0.458  7.147  54.2  6.0622    3  222     18.7   \n",
       "\n",
       "        b  lstat  medv  \n",
       "0  396.90   4.98  24.0  \n",
       "1  396.90   9.14  21.6  \n",
       "2  392.83   4.03  34.7  \n",
       "3  394.63   2.94  33.4  \n",
       "4  396.90   5.33  36.2  "
      ]
     },
     "execution_count": 17,
     "metadata": {},
     "output_type": "execute_result"
    }
   ],
   "source": [
    "data = pd.read_csv(\"./Training Data/BostonHousing.csv\")\n",
    "data.head()"
   ]
  },
  {
   "cell_type": "code",
   "execution_count": 18,
   "id": "76b6ab7e-ac0e-42e3-ba98-098beddde585",
   "metadata": {},
   "outputs": [],
   "source": [
    "X = data.drop(['medv'],axis = 1).values\n",
    "y = data['medv'].values"
   ]
  },
  {
   "cell_type": "code",
   "execution_count": 19,
   "id": "b81bfeba-4b6b-4ee1-8f36-120ac2710131",
   "metadata": {},
   "outputs": [],
   "source": [
    "X = (X - X.mean())/X.std()"
   ]
  },
  {
   "cell_type": "code",
   "execution_count": 20,
   "id": "7d94e76d-9353-4513-845f-4a9d2bd6b5b0",
   "metadata": {},
   "outputs": [
    {
     "data": {
      "text/plain": [
       "(506, 14)"
      ]
     },
     "execution_count": 20,
     "metadata": {},
     "output_type": "execute_result"
    }
   ],
   "source": [
    "X = np.column_stack((X,np.ones(shape = (X.shape[0],1))))\n",
    "X.shape"
   ]
  },
  {
   "cell_type": "code",
   "execution_count": 38,
   "id": "32195b42-2690-48ff-bd28-4f9545a7af68",
   "metadata": {},
   "outputs": [],
   "source": [
    "def hypothesis(x,th):\n",
    "    # y_pred = np.zeros((x.shape[0],))\n",
    "    # for i in range(len(x)):\n",
    "    #     y_pred[i] = np.sum(x[i]*th)\n",
    "    # return y_pred\n",
    "\n",
    "    # return np.sum(x*th,axis = 1)\n",
    "\n",
    "    return th@x.T\n",
    "\n",
    "    "
   ]
  },
  {
   "cell_type": "code",
   "execution_count": 39,
   "id": "a92bb2a5-b30a-48a1-8e21-5187516d68d6",
   "metadata": {},
   "outputs": [
    {
     "data": {
      "text/plain": [
       "(506,)"
      ]
     },
     "execution_count": 39,
     "metadata": {},
     "output_type": "execute_result"
    }
   ],
   "source": [
    "hypothesis(X,np.ones((X.shape[1],))).shape"
   ]
  },
  {
   "cell_type": "code",
   "execution_count": 54,
   "id": "799ddfc4-5af5-4aa5-91c8-c9c1b192f157",
   "metadata": {},
   "outputs": [],
   "source": [
    "class LinearRegression:\n",
    "    def __init__(self,lr=0.01,epochs=1000):\n",
    "        self.lr = lr\n",
    "        self.epochs = epochs\n",
    "\n",
    "    def fit(self,X,y):\n",
    "        self.th,self.error = self.gradientDescent(X,y,self.lr,self.epochs)\n",
    "\n",
    "    def predict(self,t):\n",
    "        return self.hypothesis(t,self.th)\n",
    "        \n",
    "    def hypothesis(self,x,th):\n",
    "        # y_pred = np.zeros((x.shape[0],))\n",
    "        # for i in range(len(x)):\n",
    "        #     y_pred[i] = np.sum(x[i]*th)\n",
    "        # return y_pred\n",
    "    \n",
    "        # return np.sum(x*th,axis = 1)\n",
    "    \n",
    "        return th@x.T\n",
    "    \n",
    "    def error(self,x,th,y):\n",
    "        y_pred = self.hypothesis(x,th)\n",
    "        return np.mean((y_pred-y)**2)\n",
    "    \n",
    "    def gradientDescent(self,x,y,lr=0.01,epochs = 1000):\n",
    "        th = np.random.randn(x.shape[1])\n",
    "        # print(th1,th0)\n",
    "        errorGD = []\n",
    "        for i in range(epochs+1):\n",
    "            y_pred = self.hypothesis(x,th)\n",
    "            # print(y_pred)\n",
    "            #Gradient\n",
    "            gradients = ((y_pred-y)@x)/x.shape[0]\n",
    "            th = th - lr*gradients\n",
    "    \n",
    "            errorGD.append(error(x,th,y))\n",
    "            if i%1000 == 0:\n",
    "                print(f\"Epoch: {i+1}, Error: {errorGD[-1]}, r2 score{r2_score(y,y_pred)}\")\n",
    "            \n",
    "            # print(th1,th0)\n",
    "    \n",
    "        return th,errorGD\n",
    "    \n",
    "    def r2_score(self,y_true,y_pred):\n",
    "        rss = np.sum((y_true-y_pred)**2)\n",
    "        tss = np.sum((y_true-np.mean(y_true))**2)\n",
    "        return 1 - rss/tss\n",
    "    \n"
   ]
  },
  {
   "cell_type": "code",
   "execution_count": 52,
   "id": "c2d92cc1-ef7a-4e26-bebb-f06105f7b16d",
   "metadata": {
    "scrolled": true
   },
   "outputs": [
    {
     "name": "stdout",
     "output_type": "stream",
     "text": [
      "Epoch: 1, Error: 148.4827734449339, r2 score-3.554528490192177\n",
      "Epoch: 1001, Error: 52.563330581023145, r2 score0.3772957062366902\n",
      "Epoch: 2001, Error: 48.21568625881054, r2 score0.428811826555883\n",
      "Epoch: 3001, Error: 44.88180231240337, r2 score0.4683133840337824\n",
      "Epoch: 4001, Error: 42.25899800908443, r2 score0.4993893931679936\n",
      "Epoch: 5001, Error: 40.18159199874351, r2 score0.5240031809746015\n",
      "Epoch: 6001, Error: 38.52766046379069, r2 score0.5435994007798313\n",
      "Epoch: 7001, Error: 37.20349083225935, r2 score0.5592884207465343\n",
      "Epoch: 8001, Error: 36.13659002683851, r2 score0.5719291841479082\n",
      "Epoch: 9001, Error: 35.27077534283739, r2 score0.5821873778449815\n",
      "Epoch: 10001, Error: 34.56244993713708, r2 score0.5905795631466126\n",
      "Epoch: 11001, Error: 33.97774466627606, r2 score0.5975070413449185\n",
      "Epoch: 12001, Error: 33.49031833668772, r2 score0.6032819178625726\n",
      "Epoch: 13001, Error: 33.079661765857594, r2 score0.6081471968711631\n",
      "Epoch: 14001, Error: 32.72978840601058, r2 score0.6122922956374668\n",
      "Epoch: 15001, Error: 32.428222163218116, r2 score0.6158650374901802\n",
      "Epoch: 16001, Error: 32.16521409641422, r2 score0.6189809328614717\n",
      "Epoch: 17001, Error: 31.93313564781598, r2 score0.6217303686670387\n",
      "Epoch: 18001, Error: 31.7260082074249, r2 score0.6241841823112777\n",
      "Epoch: 19001, Error: 31.539138088401018, r2 score0.6263979867171919\n",
      "Epoch: 20001, Error: 31.368833086452447, r2 score0.6284155286977635\n",
      "Epoch: 21001, Error: 31.21218223856477, r2 score0.6302712985025734\n",
      "Epoch: 22001, Error: 31.066884578223714, r2 score0.6319925588241901\n",
      "Epoch: 23001, Error: 30.931115903183983, r2 score0.6336009234091141\n",
      "Epoch: 24001, Error: 30.80342505326171, r2 score0.6351135860164787\n",
      "Epoch: 25001, Error: 30.68265311104774, r2 score0.636544277772561\n",
      "Epoch: 26001, Error: 30.56787041864488, r2 score0.6379040134307193\n",
      "Epoch: 27001, Error: 30.458327448552502, r2 score0.6392016734794532\n",
      "Epoch: 28001, Error: 30.35341645332674, r2 score0.640444458537414\n",
      "Epoch: 29001, Error: 30.252641505524497, r2 score0.641638244335626\n",
      "Epoch: 30001, Error: 30.155595072001972, r2 score0.6427878592770445\n",
      "Epoch: 31001, Error: 30.061939679799583, r2 score0.6438973016682044\n",
      "Epoch: 32001, Error: 29.971393551543844, r2 score0.6449699099178778\n",
      "Epoch: 33001, Error: 29.883719337344967, r2 score0.6460084960467931\n",
      "Epoch: 34001, Error: 29.798715263658384, r2 score0.6470154505598881\n",
      "Epoch: 35001, Error: 29.716208169964705, r2 score0.6479928249507108\n",
      "Epoch: 36001, Error: 29.63604802105099, r2 score0.6489423967221424\n",
      "Epoch: 37001, Error: 29.558103573623942, r2 score0.6498657207300166\n",
      "Epoch: 38001, Error: 29.48225894675038, r2 score0.6507641698177538\n",
      "Epoch: 39001, Error: 29.40841090069922, r2 score0.651638967057515\n",
      "Epoch: 40001, Error: 29.336466671645546, r2 score0.6524912114052457\n",
      "Epoch: 41001, Error: 29.266342243101526, r2 score0.653321898181184\n",
      "Epoch: 42001, Error: 29.197960960966967, r2 score0.654131935479019\n",
      "Epoch: 43001, Error: 29.13125241938152, r2 score0.6549221573664774\n",
      "Epoch: 44001, Error: 29.066151560382984, r2 score0.6556933345526561\n",
      "Epoch: 45001, Error: 29.002597942720215, r2 score0.6564461830511488\n",
      "Epoch: 46001, Error: 28.940535144804944, r2 score0.657181371253851\n",
      "Epoch: 47001, Error: 28.879910274312564, r2 score0.6578995257411571\n",
      "Epoch: 48001, Error: 28.820673562822652, r2 score0.6586012360845832\n",
      "Epoch: 49001, Error: 28.762778028489297, r2 score0.659287058843359\n",
      "Epoch: 50001, Error: 28.706179193329966, r2 score0.6599575209138887\n",
      "Epoch: 51001, Error: 28.650834844540615, r2 score0.6606131223575846\n",
      "Epoch: 52001, Error: 28.596704831454378, r2 score0.6612543388063916\n",
      "Epoch: 53001, Error: 28.54375089149528, r2 score0.6618816235247806\n",
      "Epoch: 54001, Error: 28.491936499840513, r2 score0.6624954091908405\n",
      "Epoch: 55001, Error: 28.441226738576653, r2 score0.6630961094464122\n",
      "Epoch: 56001, Error: 28.391588181979138, r2 score0.6636841202561939\n",
      "Epoch: 57001, Error: 28.34298879521044, r2 score0.6642598211078685\n",
      "Epoch: 58001, Error: 28.295397844258694, r2 score0.6648235760790544\n",
      "Epoch: 59001, Error: 28.248785815355507, r2 score0.6653757347919544\n",
      "Epoch: 60001, Error: 28.203124342442283, r2 score0.6659166332726478\n",
      "Epoch: 61001, Error: 28.15838614151796, r2 score0.6664465947288554\n",
      "Epoch: 62001, Error: 28.11454495091064, r2 score0.6669659302575242\n",
      "Epoch: 63001, Error: 28.071575476683957, r2 score0.6674749394915769\n",
      "Epoch: 64001, Error: 28.029453342523325, r2 score0.6679739111935901\n",
      "Epoch: 65001, Error: 27.988155043556468, r2 score0.6684631238028604\n",
      "Epoch: 66001, Error: 27.947657903649663, r2 score0.668942845941295\n",
      "Epoch: 67001, Error: 27.90794003579318, r2 score0.6694133368827047\n",
      "Epoch: 68001, Error: 27.868980305246858, r2 score0.6698748469893967\n",
      "Epoch: 69001, Error: 27.83075829516473, r2 score0.6703276181193998\n",
      "Epoch: 70001, Error: 27.79325427445698, r2 score0.670771884007184\n",
      "Epoch: 71001, Error: 27.756449167679264, r2 score0.6712078706203624\n",
      "Epoch: 72001, Error: 27.72032452676737, r2 score0.671635796494531\n",
      "Epoch: 73001, Error: 27.684862504457104, r2 score0.6720558730481462\n",
      "Epoch: 74001, Error: 27.65004582924862, r2 score0.6724683048791041\n",
      "Epoch: 75001, Error: 27.61585778179045, r2 score0.6728732900445024\n",
      "Epoch: 76001, Error: 27.582282172572235, r2 score0.6732710203248975\n",
      "Epoch: 77001, Error: 27.549303320826894, r2 score0.6736616814742352\n",
      "Epoch: 78001, Error: 27.516906034553212, r2 score0.6740454534565083\n",
      "Epoch: 79001, Error: 27.48507559157823, r2 score0.6744225106700941\n",
      "Epoch: 80001, Error: 27.453797721587158, r2 score0.6747930221606337\n",
      "Epoch: 81001, Error: 27.4230585890545, r2 score0.6751571518232327\n",
      "Epoch: 82001, Error: 27.392844777016336, r2 score0.6755150585946972\n",
      "Epoch: 83001, Error: 27.363143271629013, r2 score0.6758668966364546\n",
      "Epoch: 84001, Error: 27.333941447463904, r2 score0.6762128155087554\n",
      "Epoch: 85001, Error: 27.30522705349202, r2 score0.6765529603367004\n",
      "Epoch: 86001, Error: 27.276988199716282, r2 score0.6768874719685976\n",
      "Epoch: 87001, Error: 27.24921334441209, r2 score0.6772164871271117\n",
      "Epoch: 88001, Error: 27.2218912819403, r2 score0.6775401385536342\n",
      "Epoch: 89001, Error: 27.19501113109904, r2 score0.677858555146268\n",
      "Epoch: 90001, Error: 27.16856232398356, r2 score0.6781718620917963\n",
      "Epoch: 91001, Error: 27.142534595325394, r2 score0.6784801809919707\n",
      "Epoch: 92001, Error: 27.11691797228409, r2 score0.6787836299844406\n",
      "Epoch: 93001, Error: 27.091702764666746, r2 score0.6790823238586134\n",
      "Epoch: 94001, Error: 27.066879555552408, r2 score0.679376374166718\n",
      "Epoch: 95001, Error: 27.042439192299465, r2 score0.6796658893303331\n",
      "Epoch: 96001, Error: 27.018372777916255, r2 score0.6799509747426102\n",
      "Epoch: 97001, Error: 26.99467166277604, r2 score0.6802317328664205\n",
      "Epoch: 98001, Error: 26.97132743665849, r2 score0.6805082633286305\n",
      "Epoch: 99001, Error: 26.94833192110182, r2 score0.6807806630106998\n",
      "Epoch: 100001, Error: 26.9256771620495, r2 score0.6810490261357887\n"
     ]
    }
   ],
   "source": [
    "th,errorGD = gradientDescent(X,y,lr = 0.1,epochs=100000)"
   ]
  },
  {
   "cell_type": "code",
   "execution_count": 8,
   "id": "3458c601-9a82-42a6-8f3f-64664267b784",
   "metadata": {},
   "outputs": [
    {
     "data": {
      "text/plain": [
       "(80.53929627988423, 3.726406376243533)"
      ]
     },
     "execution_count": 8,
     "metadata": {},
     "output_type": "execute_result"
    }
   ],
   "source": [
    "th1,th0"
   ]
  },
  {
   "cell_type": "code",
   "execution_count": 53,
   "id": "564075e2-5398-4386-8505-d3cf16b55354",
   "metadata": {},
   "outputs": [
    {
     "data": {
      "image/png": "[encoded data removed]",
      "text/plain": [
       "<Figure size 640x480 with 1 Axes>"
      ]
     },
     "metadata": {},
     "output_type": "display_data"
    }
   ],
   "source": [
    "plt.plot(errorGD)\n",
    "plt.show()"
   ]
  },
  {
   "cell_type": "code",
   "execution_count": 34,
   "id": "0df023a8-806d-40ae-8662-d460fbe40e25",
   "metadata": {},
   "outputs": [
    {
     "data": {
      "image/png": "[encoded data removed]",
      "text/plain": [
       "<Figure size 640x480 with 1 Axes>"
      ]
     },
     "metadata": {},
     "output_type": "display_data"
    }
   ],
   "source": [
    "plt.plot(x_csv,hypothesis(x_csv,th1,th0),c='r')\n",
    "plt.scatter(x_csv,y_csv)\n",
    "plt.show()"
   ]
  },
  {
   "cell_type": "code",
   "execution_count": null,
   "id": "0fca65b3-e86c-449b-a841-555550ea8ce8",
   "metadata": {},
   "outputs": [],
   "source": []
  },
  {
   "cell_type": "code",
   "execution_count": 24,
   "id": "0b67ce23-5cf4-4cde-a392-fa7d2e7228f0",
   "metadata": {},
   "outputs": [
    {
     "data": {
      "text/plain": [
       "array([[2., 1.],\n",
       "       [1., 2.]])"
      ]
     },
     "execution_count": 24,
     "metadata": {},
     "output_type": "execute_result"
    }
   ],
   "source": [
    "a = np.ones((2,))\n",
    "b = np.eye(2)\n",
    "b+a"
   ]
  },
  {
   "cell_type": "code",
   "execution_count": null,
   "id": "4ef0b4df-b867-403a-98a8-4f9a8a2d22ed",
   "metadata": {},
   "outputs": [],
   "source": []
  },
  {
   "cell_type": "code",
   "execution_count": null,
   "id": "8990f3e4-1550-425d-ad7b-cb8ebb175ee7",
   "metadata": {},
   "outputs": [],
   "source": []
  }
 ],
 "metadata": {
  "kernelspec": {
   "display_name": "Python 3 (ipykernel)",
   "language": "python",
   "name": "python3"
  },
  "language_info": {
   "codemirror_mode": {
    "name": "ipython",
    "version": 3
   },
   "file_extension": ".py",
   "mimetype": "text/x-python",
   "name": "python",
   "nbconvert_exporter": "python",
   "pygments_lexer": "ipython3",
   "version": "3.12.1"
  }
 },
 "nbformat": 4,
 "nbformat_minor": 5
}
