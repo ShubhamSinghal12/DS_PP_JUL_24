{
 "cells": [
  {
   "cell_type": "code",
   "execution_count": null,
   "id": "3ca495fa-61ae-452e-8da9-d082ff0d398e",
   "metadata": {},
   "outputs": [],
   "source": []
  },
  {
   "cell_type": "code",
   "execution_count": null,
   "id": "135a33c5-7973-4678-8fd4-54bb93e6ece5",
   "metadata": {},
   "outputs": [],
   "source": []
  },
  {
   "cell_type": "code",
   "execution_count": null,
   "id": "12772c27-311b-47ab-93bf-0924ee5040c9",
   "metadata": {},
   "outputs": [],
   "source": []
  },
  {
   "cell_type": "code",
   "execution_count": null,
   "id": "418f3672-3a61-466e-9df6-98e41a9febdf",
   "metadata": {},
   "outputs": [],
   "source": []
  },
  {
   "cell_type": "code",
   "execution_count": null,
   "id": "551aba0a-9582-4cf2-bd61-9887d6c1cdb6",
   "metadata": {},
   "outputs": [],
   "source": [
    "class KNNClassifier:\n",
    "    def __init__(self,k = 5):\n",
    "        self.k = k\n",
    "        \n",
    "    def fit(self,x,y):\n",
    "        self.X = x\n",
    "        self.y = y\n",
    "        \n",
    "    def distance_formula(self,p1,p2):\n",
    "        return np.sqrt(np.sum((p1-p2)**2))\n",
    "        \n",
    "    def predict_1(self,t):\n",
    "        distances = [] #Tuple, 0-> dist, 1-> labels\n",
    "        for i in range(len(self.X)):\n",
    "            distances.append((self.distance_formula(t,self.X[i]),self.y[i]))\n",
    "\n",
    "        distances = sorted(distances,key=lambda x:x[0])[:self.k]\n",
    "        \n",
    "\n",
    "    def predict(self,t):\n",
    "        "
   ]
  },
  {
   "cell_type": "code",
   "execution_count": null,
   "id": "4ecd8d7f-62f0-4812-8a89-f44bed3b864e",
   "metadata": {},
   "outputs": [],
   "source": []
  },
  {
   "cell_type": "code",
   "execution_count": null,
   "id": "7d309e45-2343-466f-acc9-8431cdc838f4",
   "metadata": {},
   "outputs": [],
   "source": []
  },
  {
   "cell_type": "code",
   "execution_count": null,
   "id": "11a71582-12aa-4b53-bb58-03c0e359c0d7",
   "metadata": {},
   "outputs": [],
   "source": []
  },
  {
   "cell_type": "code",
   "execution_count": null,
   "id": "357f1fae-885f-4953-9887-57f1cec319ab",
   "metadata": {},
   "outputs": [],
   "source": []
  }
 ],
 "metadata": {
  "kernelspec": {
   "display_name": "Python 3 (ipykernel)",
   "language": "python",
   "name": "python3"
  },
  "language_info": {
   "codemirror_mode": {
    "name": "ipython",
    "version": 3
   },
   "file_extension": ".py",
   "mimetype": "text/x-python",
   "name": "python",
   "nbconvert_exporter": "python",
   "pygments_lexer": "ipython3",
   "version": "3.12.1"
  }
 },
 "nbformat": 4,
 "nbformat_minor": 5
}
